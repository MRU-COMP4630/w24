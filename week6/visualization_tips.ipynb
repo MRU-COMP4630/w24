{
 "cells": [
  {
   "cell_type": "markdown",
   "metadata": {},
   "source": [
    "# Data visualization\n",
    "Some (opinionated) notes on data visualization based on my observations from assignment 1.\n",
    "\n",
    "First, we need some data to visualize. Let's use the classic iris dataset."
   ]
  },
  {
   "cell_type": "code",
   "execution_count": null,
   "metadata": {},
   "outputs": [],
   "source": [
    "import matplotlib.pyplot as plt\n",
    "import numpy as np\n",
    "import pandas as pd\n",
    "\n",
    "# Load the iris dataset\n",
    "from sklearn.datasets import load_iris\n",
    "iris = load_iris()\n",
    "df = pd.DataFrame(iris.data, columns=iris.feature_names)\n",
    "\n",
    "# Add on the target column\n",
    "df['species'] = pd.Categorical.from_codes(iris.target, iris.target_names)\n",
    "df.head()"
   ]
  },
  {
   "cell_type": "code",
   "execution_count": null,
   "metadata": {},
   "outputs": [],
   "source": [
    "df.info()"
   ]
  },
  {
   "cell_type": "markdown",
   "metadata": {},
   "source": [
    "## Histograms\n",
    "Histograms are a great way to visualize the distribution of a single variable. A lot of the sample code (in my notebooks and others) use 50 bins as a reasonable compromise between detail and readability. However, the number of bins should be adjusted based on:\n",
    "- The number of samples\n",
    "- The range and discretization of the feature"
   ]
  },
  {
   "cell_type": "code",
   "execution_count": null,
   "metadata": {},
   "outputs": [],
   "source": [
    "# With this tiny dataset, 50 bins is too many to provide meaningful distributions\n",
    "df.hist(bins=50)\n",
    "plt.show()"
   ]
  },
  {
   "cell_type": "markdown",
   "metadata": {},
   "source": [
    "## Scatter plots\n",
    "Great for showing relationships between two variables, or trends over time. However, overlapping data points, such as when looking at numerical vs categorical data, can make it tough to see the difference between a single point and a dense cluster of points."
   ]
  },
  {
   "cell_type": "code",
   "execution_count": null,
   "metadata": {},
   "outputs": [],
   "source": [
    "plt.scatter(df['species'], df['sepal length (cm)'])\n",
    "plt.xlabel('Species')\n",
    "plt.ylabel('Sepal Length (cm)')\n",
    "# It's a good idea to label your axes!"
   ]
  },
  {
   "cell_type": "code",
   "execution_count": null,
   "metadata": {},
   "outputs": [],
   "source": [
    "# Option 1: add jitter\n",
    "jitter = 0.05\n",
    "x = df['species'].cat.codes + np.random.randn(len(df))*jitter\n",
    "plt.scatter(x, df['sepal length (cm)'])\n",
    "plt.xlabel('Species')\n",
    "plt.ylabel('Sepal Length (cm)')"
   ]
  },
  {
   "cell_type": "code",
   "execution_count": null,
   "metadata": {},
   "outputs": [],
   "source": [
    "# Option 2: boxplot\n",
    "df.boxplot('sepal length (cm)', by='species')\n",
    "plt.xlabel('Species')\n",
    "plt.ylabel('Sepal Length (cm)')\n",
    "plt.grid(False)\n",
    "plt.title('')"
   ]
  },
  {
   "cell_type": "code",
   "execution_count": null,
   "metadata": {},
   "outputs": [],
   "source": [
    "# Option 3: get fancy with a violin plot\n",
    "# seaborn is a high-level wrapper on matplotlib - plt.violinplot needs a bit more data wrangling\n",
    "import seaborn as sns\n",
    "sns.violinplot(x='species', y='sepal length (cm)', data=df, alpha=0.5)\n",
    "plt.xlabel('Species')\n",
    "plt.ylabel('Sepal Length (cm)')"
   ]
  },
  {
   "cell_type": "markdown",
   "metadata": {},
   "source": [
    "## Bar graphs\n",
    "In general, bar graphs should follow a few rules:\n",
    "- The x-axis should be categorical\n",
    "- The y-axis should start at 0\n",
    "- The bars should be ordered in a meaningful way (ideally)\n",
    "- Comparable plots should be organized the same way"
   ]
  },
  {
   "cell_type": "code",
   "execution_count": null,
   "metadata": {},
   "outputs": [],
   "source": [
    "# example of misleading plot\n",
    "plt.bar(range(4), [10, 12, 12.5, 13], tick_label=[2015, 2016, 2017, 2018])\n",
    "plt.ylabel(\"Tax rate (%)\")\n",
    "plt.xlabel(\"Year\")\n",
    "plt.ylim(9, 14)\n",
    "plt.title(\"Tax rates will skyrocket under NDP leadership\")"
   ]
  },
  {
   "cell_type": "code",
   "execution_count": null,
   "metadata": {},
   "outputs": [],
   "source": [
    "# Category vs sepal length and width\n",
    "fig, ax = plt.subplots(1, 2, figsize=(12, 6), sharex=True, sharey=True)\n",
    "ax[0].bar(df['species'], df['sepal length (cm)'], label='Sepal Length')\n",
    "ax[1].bar(df['species'], df['sepal width (cm)'], label='Sepal Width')\n",
    "ax[0].set_ylabel('Sepal Length (cm)')\n",
    "ax[1].set_ylabel('Sepal Width (cm)')\n",
    "\n",
    "# one big xlabel\n",
    "fig.text(0.5, 0.04, 'Species', ha='center')"
   ]
  },
  {
   "cell_type": "markdown",
   "metadata": {},
   "source": [
    "## Combining plots\n",
    "Finally, combining plots can be a great way to show multiple aspects of the data at once. For example, a scatter plot with a marginal histogram can show the relationship between two variables, as well as the distribution of each variable."
   ]
  },
  {
   "cell_type": "code",
   "execution_count": null,
   "metadata": {},
   "outputs": [],
   "source": [
    "# Back to seaborn for this one\n",
    "# Add hue='species' to color by species\n",
    "sns.jointplot(x='sepal length (cm)', y='sepal width (cm)', data=df, kind='scatter')"
   ]
  },
  {
   "cell_type": "markdown",
   "metadata": {},
   "source": [
    "❓ **Discussion questions**: \n",
    "- How do you decide which type of plot to use?\n",
    "- Information density vs readability?\n",
    "- What about colour schemes? Consider how things might look in greyscale, or for people with colour vision deficiencies.\n",
    "- Pay attention to figures in the media, social media, papers, etc. Maybe even check out the [Data is Beautiful](https://www.reddit.com/r/dataisbeautiful/) subreddit (although there is a tendency to over-use animations in my opinion).\n",
    "\n",
    "For further reading, one classic book is Edward Tufte's [The Visual Display of Quantitative Information](https://www.edwardtufte.com/tufte/books_vdqi), or this quick summary of his [6 principles](https://www.linkedin.com/pulse/edward-tuftes-six-principles-graphical-integrity-radhika-raghu/). I particularly like the concept of \"data-ink ratio\" and \"chartjunk\", though I think this has thankfully gotten better over the past 20-odd years."
   ]
  }
 ],
 "metadata": {
  "kernelspec": {
   "display_name": "venv",
   "language": "python",
   "name": "python3"
  },
  "language_info": {
   "codemirror_mode": {
    "name": "ipython",
    "version": 3
   },
   "file_extension": ".py",
   "mimetype": "text/x-python",
   "name": "python",
   "nbconvert_exporter": "python",
   "pygments_lexer": "ipython3",
   "version": "3.11.7"
  }
 },
 "nbformat": 4,
 "nbformat_minor": 2
}
