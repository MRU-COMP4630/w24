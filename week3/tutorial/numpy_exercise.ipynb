{
 "cells": [
  {
   "cell_type": "markdown",
   "metadata": {},
   "source": [
    "# Numpy Exercise\n",
    "\n",
    "## Objectives:\n",
    "- Practice creating and manipulating vectors and matrices using numpy\n",
    "- Implement analytical solutions to linear regression"
   ]
  },
  {
   "cell_type": "code",
   "execution_count": null,
   "metadata": {},
   "outputs": [],
   "source": [
    "import numpy as np\n",
    "import matplotlib.pyplot as plt"
   ]
  },
  {
   "cell_type": "markdown",
   "metadata": {},
   "source": [
    "## Warmup Exercises\n",
    "The following exercises are intended as an introduction to Numpy.\n",
    "\n",
    "1. Array creation: Implement the various arrays prompted by the comments. Print out either the array itself or the shape to verify your code."
   ]
  },
  {
   "cell_type": "code",
   "execution_count": null,
   "metadata": {},
   "outputs": [],
   "source": [
    "# Create an array of 10 zeros\n",
    "arr = np.zeros(10)\n",
    "print(arr)\n",
    "print(arr.shape)"
   ]
  },
  {
   "cell_type": "code",
   "execution_count": null,
   "metadata": {},
   "outputs": [],
   "source": [
    "# Create an array of 10 ones"
   ]
  },
  {
   "cell_type": "code",
   "execution_count": null,
   "metadata": {},
   "outputs": [],
   "source": [
    "# Create an array of integers from 10 to 30"
   ]
  },
  {
   "cell_type": "code",
   "execution_count": null,
   "metadata": {},
   "outputs": [],
   "source": [
    "# Create an array of 20 linearly spaced points between 0 and 1"
   ]
  },
  {
   "cell_type": "code",
   "execution_count": null,
   "metadata": {},
   "outputs": [],
   "source": [
    "# Create a 3x3 matrix with random values"
   ]
  },
  {
   "cell_type": "markdown",
   "metadata": {},
   "source": [
    "2. Numpy Operations: Implement the various operations prompted by the comments using the provided matrix."
   ]
  },
  {
   "cell_type": "code",
   "execution_count": null,
   "metadata": {},
   "outputs": [],
   "source": [
    "matrix = np.array([24, 16,  5, 22, 10, 23,  6, 11, 17, 19, 20,  1,  3,  8, 13, 12, 7, 15,  2, 21,  9, 18, 14,  4])\n",
    "\n",
    "matrix "
   ]
  },
  {
   "cell_type": "code",
   "execution_count": null,
   "metadata": {},
   "outputs": [],
   "source": [
    "# Find the index of the minimum value in the matrix"
   ]
  },
  {
   "cell_type": "code",
   "execution_count": null,
   "metadata": {},
   "outputs": [],
   "source": [
    "# Reshape to a 6x4 matrix and store in the same variable"
   ]
  },
  {
   "cell_type": "code",
   "execution_count": null,
   "metadata": {},
   "outputs": [],
   "source": [
    "# Find the indices of the maximum value in the matrix"
   ]
  },
  {
   "cell_type": "code",
   "execution_count": null,
   "metadata": {},
   "outputs": [],
   "source": [
    "# Transpose the matrix"
   ]
  },
  {
   "cell_type": "code",
   "execution_count": null,
   "metadata": {},
   "outputs": [],
   "source": [
    "# Square each element in the matrix"
   ]
  },
  {
   "cell_type": "markdown",
   "metadata": {},
   "source": [
    "## Linear Regression Exercises\n",
    "\n",
    "First we'll generate some random linear but noisy data. Feel free to play around with the parameters to see how things change."
   ]
  },
  {
   "cell_type": "code",
   "execution_count": null,
   "metadata": {},
   "outputs": [],
   "source": [
    "m = 100  # number of instances\n",
    "slope = 4\n",
    "intercept = 2\n",
    "x = 2 * np.random.rand(m, 1)\n",
    "y = intercept + slope * x + 2 * np.random.randn(m, 1)\n",
    "\n",
    "plt.scatter(x, y)"
   ]
  },
  {
   "cell_type": "markdown",
   "metadata": {},
   "source": [
    "1. Now implement the 1D linear regression solution, given as:\n",
    "    $$\\begin{aligned}\n",
    "    \\theta_1 &= \\frac{\\mu_y \\sum_{m}x_i - \\sum_m x_i y_i}{\\mu_x\\sum_m x_i + \\sum_m x_i^2}\\\\\n",
    "    \\theta_0 &= \\mu_y - \\theta_1 \\mu_x\n",
    "    \\end{aligned}$$\n",
    "\n",
    "    where $\\mu_x$ and $\\mu_y$ are the means of the $x$ and $y$ values, respectively.\n",
    "\n",
    "    Hint: you can use `np.sum` to sum up all the elements of a vector or matrix, and by default numpy will perform element-wise multiplication when you use the `*` operator on two vectors/matrices.\n"
   ]
  },
  {
   "cell_type": "code",
   "execution_count": null,
   "metadata": {},
   "outputs": [],
   "source": [
    "# 1D solution"
   ]
  },
  {
   "cell_type": "markdown",
   "metadata": {},
   "source": [
    "2. Next, re-write it in matrix form. The solution is given as:\n",
    "   $$\\hat{\\mathbf{\\theta}} = (\\mathbf{X}^T\\mathbf{X})^{-1}\\mathbf{X}^T\\mathbf{y}$$\n",
    "\n",
    "   You'll need the following syntax:\n",
    "   - `np.linalg.inv(A)` to invert a matrix $\\mathbf{A}$\n",
    "   - `@` to perform matrix multiplication"
   ]
  },
  {
   "cell_type": "code",
   "execution_count": null,
   "metadata": {},
   "outputs": [],
   "source": [
    "# create the design matrix by adding a column of 1s to x\n",
    "X = np.hstack([np.ones((m, 1)), x])\n",
    "# compute the normal equation"
   ]
  },
  {
   "cell_type": "markdown",
   "metadata": {},
   "source": [
    "3. Plot the data and the line given by your linear regression solutions to see how well they fit."
   ]
  },
  {
   "cell_type": "code",
   "execution_count": null,
   "metadata": {},
   "outputs": [],
   "source": [
    "plt.scatter(x, y)\n",
    "# plot the line\n",
    "plt.plot(x, intercept + slope * x, 'g', label=\"Actual line\")\n",
    "# your code here\n",
    "\n",
    "plt.legend()"
   ]
  },
  {
   "cell_type": "markdown",
   "metadata": {},
   "source": [
    "## Extra exercise\n",
    "Try implementing your own version of gradient descent. Remember, the gradient of the loss function is given as:\n",
    "\n",
    "$$\\nabla_{\\mathbf{\\theta}} MSE = \\frac{2}{m}\\mathbf{X}^T(\\mathbf{X}\\mathbf{\\theta} - \\mathbf{y})$$\n",
    "\n",
    "where $m$ is the number of samples in the dataset.\n",
    "\n",
    "The general algorithm is as follows:\n",
    "1. Start with a random $\\mathbf{\\theta}$\n",
    "2. Calculate the gradient $\\nabla_{\\mathbf{\\theta}}$ for the current $\\mathbf{\\theta}$\n",
    "3. Update $\\mathbf{\\theta}$ as $\\mathbf{\\theta} = \\mathbf{\\theta} - \\eta \\nabla_{\\mathbf{\\theta}}$\n",
    "4. Repeat 2-3 until some stopping criterion is met\n",
    "\n",
    "The easiest stopping criterion is probably just to run for a fixed number of iterations."
   ]
  }
 ],
 "metadata": {
  "kernelspec": {
   "display_name": "venv",
   "language": "python",
   "name": "python3"
  },
  "language_info": {
   "codemirror_mode": {
    "name": "ipython",
    "version": 3
   },
   "file_extension": ".py",
   "mimetype": "text/x-python",
   "name": "python",
   "nbconvert_exporter": "python",
   "pygments_lexer": "ipython3",
   "version": "3.11.7"
  }
 },
 "nbformat": 4,
 "nbformat_minor": 2
}
