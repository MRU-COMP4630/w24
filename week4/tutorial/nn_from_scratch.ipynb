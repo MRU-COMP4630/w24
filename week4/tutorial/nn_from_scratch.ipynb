{
 "cells": [
  {
   "cell_type": "markdown",
   "metadata": {},
   "source": [
    "# A simple neural network - from scratch\n",
    "\n",
    "## Objectives\n",
    "- More practice with numpy\n",
    "- Understand what's happening in neural networks\n",
    "\n",
    "In this exercise, we'll train the 2-layer network discussed in class:\n",
    "\n",
    "![](../figs/ann.svg)"
   ]
  },
  {
   "cell_type": "code",
   "execution_count": null,
   "metadata": {},
   "outputs": [],
   "source": [
    "import numpy as np\n",
    "import matplotlib.pyplot as plt"
   ]
  },
  {
   "cell_type": "markdown",
   "metadata": {},
   "source": [
    "First, let's take a look at the version that had linear activation and no bias terms:"
   ]
  },
  {
   "cell_type": "code",
   "execution_count": null,
   "metadata": {},
   "outputs": [],
   "source": [
    "# toy mlp example\n",
    "# forward pass\n",
    "x = np.array([2, 3])\n",
    "y = 1\n",
    "w1 = np.array([[-0.78, 0.13], [0.85, 0.23]])\n",
    "w2 = np.array([1.8, 0.40])\n",
    "\n",
    "iterations = 200\n",
    "eta = 0.01\n",
    "loss = np.zeros(iterations)\n",
    "\n",
    "for i in range(iterations):\n",
    "    # forward pass\n",
    "    y_hat = x @ w1 @ w2\n",
    "    \n",
    "    # update loss\n",
    "    loss[i] = 0.5 * (y_hat - y)**2\n",
    "\n",
    "    # backpropagate!\n",
    "    w2_partials = (y_hat - y) * (x @ w1)\n",
    "    w1_partials = np.outer(w2_partials, x)\n",
    "\n",
    "    w1 = w1 - eta * w1_partials\n",
    "    w2 = w2 - eta * w2_partials\n",
    "\n",
    "plt.plot(loss)\n",
    "\n",
    "# check how well we did\n",
    "print(\"Final prediction:\", x @ w1 @ w2)"
   ]
  },
  {
   "cell_type": "markdown",
   "metadata": {},
   "source": [
    "This time, let's initialize random weights. X and y are the same as before."
   ]
  },
  {
   "cell_type": "code",
   "execution_count": null,
   "metadata": {},
   "outputs": [],
   "source": [
    "w1 = np.array([[-0.78, 0.13], [0.85, 0.23]])\n",
    "w2 = np.array([1.8, 0.40])"
   ]
  },
  {
   "cell_type": "markdown",
   "metadata": {},
   "source": [
    "Next, we need to define the activation function and its derivative. The ReLU function is defined as:\n",
    "\n",
    "$$\\text{ReLU}(z) = \\max(0, z), \\hspace{0.5cm} \\frac{d\\text{ReLU}}{dz} = \\begin{cases} 0 & z < 0 \\\\ 1 & z > 0 \\end{cases}$$\n",
    "\n",
    "Feel free to try other activation functions if you want to experiment."
   ]
  },
  {
   "cell_type": "code",
   "execution_count": null,
   "metadata": {},
   "outputs": [],
   "source": [
    "def activation(z):\n",
    "    # TODO\n",
    "    return z * (z > 0)\n",
    "    pass\n",
    "\n",
    "def d_activation(z):\n",
    "    # TODO\n",
    "    return (z > 0).astype(int)\n",
    "    pass\n"
   ]
  },
  {
   "cell_type": "markdown",
   "metadata": {},
   "source": [
    "Let's do the same for the mean squared error loss and its derivative (just scalar form):"
   ]
  },
  {
   "cell_type": "code",
   "execution_count": null,
   "metadata": {},
   "outputs": [],
   "source": [
    "def L(y_hat, y):\n",
    "    return 0.5 * (y_hat - y)**2\n",
    "\n",
    "def d_L(y_hat, y):\n",
    "    return (y_hat - y)"
   ]
  },
  {
   "cell_type": "markdown",
   "metadata": {},
   "source": [
    "Let's add some more functions to make things more readable. We'll define a function to compute the forward pass, and another to compute the backward pass."
   ]
  },
  {
   "cell_type": "code",
   "execution_count": null,
   "metadata": {},
   "outputs": [],
   "source": [
    "def forward(x, w1, w2):\n",
    "    return activation(x @ w1) @ w2"
   ]
  },
  {
   "cell_type": "code",
   "execution_count": null,
   "metadata": {},
   "outputs": [],
   "source": [
    "def backward(x, y, y_hat, w1, w2, eta):\n",
    "    w2_partials = d_L(y_hat, y) * activation(x @ w1)\n",
    "    w1_partials = np.outer(d_activation(w2_partials), x)\n",
    "    w1 -= eta * w1_partials\n",
    "    w2 -= eta * w2_partials\n",
    "    return w1, w2"
   ]
  },
  {
   "cell_type": "code",
   "execution_count": null,
   "metadata": {},
   "outputs": [],
   "source": [
    "# re-initialize weights\n",
    "w1 = np.array([[-0.78, 0.13], [0.85, 0.23]])\n",
    "w2 = np.array([1.8, 0.40])"
   ]
  },
  {
   "cell_type": "markdown",
   "metadata": {},
   "source": [
    "Finally, iterate! Run the following cell repeatedly to observe the loss changing."
   ]
  },
  {
   "cell_type": "code",
   "execution_count": null,
   "metadata": {},
   "outputs": [],
   "source": [
    "w1, w2 = backward(x, y, y_hat, w1, w2, eta)\n",
    "y_hat = forward(x, w1, w2)\n",
    "L(y_hat, y)"
   ]
  },
  {
   "cell_type": "markdown",
   "metadata": {},
   "source": [
    "Of course, repeatedly running code is much better done with a loop. In the next cell, write a loop that runs the forward and backwards passes `iterations` times, keeping track of the loss. Plot the loss as a function of iteration number."
   ]
  },
  {
   "cell_type": "code",
   "execution_count": null,
   "metadata": {},
   "outputs": [],
   "source": [
    "# re-initialize weights\n",
    "w1 = np.array([[-0.78, 0.13], [0.85, 0.23]])\n",
    "w2 = np.array([1.8, 0.40])\n",
    "\n",
    "loss = np.zeros(iterations)\n",
    "for i in range(iterations):\n",
    "    y_hat = forward(x, w1, w2)\n",
    "    loss[i] = L(y_hat, y)\n",
    "    w1, w2 = backward(x, y, y_hat, w1, w2, eta)\n",
    "\n",
    "plt.plot(loss)\n",
    "print(\"Final prediction:\", y_hat)"
   ]
  }
 ],
 "metadata": {
  "kernelspec": {
   "display_name": "venv",
   "language": "python",
   "name": "python3"
  },
  "language_info": {
   "codemirror_mode": {
    "name": "ipython",
    "version": 3
   },
   "file_extension": ".py",
   "mimetype": "text/x-python",
   "name": "python",
   "nbconvert_exporter": "python",
   "pygments_lexer": "ipython3",
   "version": "3.11.7"
  }
 },
 "nbformat": 4,
 "nbformat_minor": 2
}
