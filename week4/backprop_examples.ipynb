{
 "cells": [
  {
   "cell_type": "code",
   "execution_count": null,
   "metadata": {},
   "outputs": [],
   "source": [
    "import numpy as np\n",
    "import matplotlib.pyplot as plt"
   ]
  },
  {
   "cell_type": "code",
   "execution_count": null,
   "metadata": {},
   "outputs": [],
   "source": [
    "# AND gate\n",
    "# x = np.array([[0,0],[0,1],[1,0],[1,1]])\n",
    "# y = np.array([0,0,0,1])\n",
    "\n",
    "# OR gate\n",
    "# x = np.array([[0,0],[0,1],[1,0],[1,1]])\n",
    "# y = np.array([0,1,1,1])\n",
    "\n",
    "# XOR gate\n",
    "x = np.array([[0,0],[0,1],[1,0],[1,1]])\n",
    "y = np.array([0,1,1,0])\n",
    "\n",
    "def plot_data():\n",
    "    y_false = y.flatten() == 0\n",
    "    y_true = y.flatten() == 1\n",
    "    plt.scatter(x[y_false,0],x[y_false,1],color=\"blue\", marker=\"o\", label=\"Output: 0\")\n",
    "    plt.scatter(x[y_true,0],x[y_true,1],color=\"red\", marker=\"x\", label=\"Output: 1\")\n",
    "    plt.legend()\n",
    "    plt.xlabel(\"Input 1\")\n",
    "    plt.ylabel(\"Input 2\")\n",
    "\n",
    "plot_data()"
   ]
  },
  {
   "cell_type": "code",
   "execution_count": null,
   "metadata": {},
   "outputs": [],
   "source": [
    "# training a perceptron\n",
    "X = np.hstack((np.ones((x.shape[0],1)),x)) # add bias term\n",
    "w = np.zeros(X.shape[1])\n",
    "eta = 0.5\n",
    "\n",
    "num_errors = X.shape[0]\n",
    "max_iters = 100\n",
    "iters = 0\n",
    "while num_errors > 0 and iters < max_iters:\n",
    "    num_errors = 0\n",
    "    iters += 1\n",
    "    for i in range(X.shape[0]):\n",
    "        y_hat = ((X @ w) > 0).astype(int) # step function after weighting\n",
    "        w = eta * (y[i] - y_hat[i]) * X[i] + w\n",
    "        num_errors += abs(y[i] - y_hat[i])\n",
    "        # print(i, w)\n",
    "\n",
    "print(\"w =\", w)\n",
    "\n",
    "# illustrate decision boundary\n",
    "plot_data()\n",
    "\n",
    "# We get a 1 if w0 + w1x1 + w2x2 > 0, and a 0 otherwise.\n",
    "# solving for x2, we get x2 > -(w0 + w1x1) / w2\n",
    "\n",
    "slope = -w[1] / w[2]\n",
    "intercept = -w[0] / w[2]\n",
    "decision_x = np.array([-0.1, 1.1])\n",
    "plt.plot(decision_x, decision_x * slope + intercept,color=\"black\", linestyle=\"--\", label=\"Decision Boundary\")"
   ]
  },
  {
   "cell_type": "code",
   "execution_count": null,
   "metadata": {},
   "outputs": [],
   "source": [
    "# MLP to solve XOR\n",
    "x = np.array([[0,0],[0,1],[1,0],[1,1]])\n",
    "X = np.hstack((np.ones((x.shape[0],1)),x))\n",
    "\n",
    "w1 = np.array([[0, 1, 1], [-1, 1, 1]]).T\n",
    "\n",
    "H = (X @ w1 > 0).astype(int)\n",
    "H = np.hstack((np.ones((H.shape[0],1)),H))\n",
    "\n",
    "w2 = np.array([0, 1, -1])\n",
    "y = (H @ w2 > 0).astype(int)\n",
    "print(y) # Yay!"
   ]
  },
  {
   "cell_type": "code",
   "execution_count": null,
   "metadata": {},
   "outputs": [],
   "source": [
    "# toy mlp example\n",
    "# forward pass\n",
    "x = np.array([2, 3])\n",
    "y = 1\n",
    "w1 = np.array([[-0.78, 0.13], [0.85, 0.23]])\n",
    "w2 = np.array([1.8, 0.40])\n",
    "\n",
    "iterations = 200\n",
    "eta = 0.01\n",
    "loss = np.zeros(iterations)\n",
    "\n",
    "for i in range(iterations):\n",
    "    # forward pass\n",
    "    y_hat = x @ w1 @ w2\n",
    "    \n",
    "    # update loss\n",
    "    loss[i] = 0.5 * (y_hat - y)**2\n",
    "\n",
    "    # backpropagate!\n",
    "    w2_partials = (y_hat - y) * (x @ w1)\n",
    "    w1_partials = np.outer(w2_partials, x)\n",
    "\n",
    "    w1 = w1 - eta * w1_partials\n",
    "    w2 = w2 - eta * w2_partials\n",
    "\n",
    "plt.plot(loss)\n",
    "\n",
    "# check how well we did\n",
    "print(\"Final prediction:\", x @ w1 @ w2)"
   ]
  }
 ],
 "metadata": {
  "kernelspec": {
   "display_name": "venv",
   "language": "python",
   "name": "python3"
  },
  "language_info": {
   "codemirror_mode": {
    "name": "ipython",
    "version": 3
   },
   "file_extension": ".py",
   "mimetype": "text/x-python",
   "name": "python",
   "nbconvert_exporter": "python",
   "pygments_lexer": "ipython3",
   "version": "3.11.4"
  }
 },
 "nbformat": 4,
 "nbformat_minor": 2
}
